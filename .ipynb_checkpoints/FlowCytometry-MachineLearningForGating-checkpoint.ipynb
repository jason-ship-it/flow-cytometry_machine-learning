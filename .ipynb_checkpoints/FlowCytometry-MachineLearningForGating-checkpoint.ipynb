{
 "cells": [
  {
   "cell_type": "code",
   "execution_count": 1,
   "metadata": {
    "collapsed": true
   },
   "outputs": [],
   "source": [
    "import numpy as np\n",
    "import pandas as pd\n",
    "import FlowCytometryTools as flow\n",
    "import matplotlib.pyplot as plt\n",
    "\n",
    "%matplotlib inline"
   ]
  },
  {
   "cell_type": "markdown",
   "metadata": {},
   "source": [
    "### Data Import\n",
    "Data handling: [http://eyurtsev.github.io/FlowCytometryTools/tutorial.html](http://eyurtsev.github.io/FlowCytometryTools/tutorial.html)"
   ]
  },
  {
   "cell_type": "code",
   "execution_count": 2,
   "metadata": {
    "collapsed": false
   },
   "outputs": [],
   "source": [
    "# Loading a file\n",
    "datafile = \"data/JF2017-01-06-B.0006.fcs\"\n",
    "sample = flow.FCMeasurement(ID='MG1655_sfGFP_mRFP1', datafile=datafile)"
   ]
  },
  {
   "cell_type": "code",
   "execution_count": 3,
   "metadata": {
    "collapsed": false
   },
   "outputs": [
    {
     "name": "stdout",
     "output_type": "stream",
     "text": [
      "(u'HDR-T', u'FSC-A', u'FSC-H', u'FSC-W', u'SSC-A', u'SSC-H', u'SSC-W', u'Y2-A', u'Y2-H', u'Y2-W', u'B1-A', u'B1-H', u'B1-W')\n"
     ]
    }
   ],
   "source": [
    "# Examining channels in the file\n",
    "print sample.channel_names"
   ]
  },
  {
   "cell_type": "code",
   "execution_count": 4,
   "metadata": {
    "collapsed": false
   },
   "outputs": [
    {
     "name": "stdout",
     "output_type": "stream",
     "text": [
      "                 $PnN  $PnB $PnG                  $PnE   $PnS    $PnR\n",
      "Channel Number                                                       \n",
      "1               HDR-T    32    1  [0.000000, 0.000000]  HDR-T  262144\n",
      "2               FSC-A    32    1  [0.000000, 0.000000]  FSC-A  262144\n",
      "3               FSC-H    32    1  [0.000000, 0.000000]  FSC-H  262144\n",
      "4               FSC-W    32    1  [0.000000, 0.000000]  FSC-W  262144\n",
      "5               SSC-A    32    1  [0.000000, 0.000000]  SSC-A  262144\n",
      "6               SSC-H    32    1  [0.000000, 0.000000]  SSC-H  262144\n",
      "7               SSC-W    32    1  [0.000000, 0.000000]  SSC-W  262144\n",
      "8                Y2-A    32    1  [0.000000, 0.000000]   Y2-A  262144\n",
      "9                Y2-H    32    1  [0.000000, 0.000000]   Y2-H  262144\n",
      "10               Y2-W    32    1  [0.000000, 0.000000]   Y2-W  262144\n",
      "11               B1-A    32    1  [0.000000, 0.000000]   B1-A  262144\n",
      "12               B1-H    32    1  [0.000000, 0.000000]   B1-H  262144\n",
      "13               B1-W    32    1  [0.000000, 0.000000]   B1-W  262144\n"
     ]
    }
   ],
   "source": [
    "# Summary of channels\n",
    "print sample.channels"
   ]
  },
  {
   "cell_type": "code",
   "execution_count": 5,
   "metadata": {
    "collapsed": false
   },
   "outputs": [
    {
     "name": "stdout",
     "output_type": "stream",
     "text": [
      "(10000, 13)\n"
     ]
    }
   ],
   "source": [
    "# YourSample.data returns a pandas dataframe with the raw data for each read\n",
    "# I gatered 10k reads, 13 channels\n",
    "print sample.data.shape"
   ]
  },
  {
   "cell_type": "code",
   "execution_count": 6,
   "metadata": {
    "collapsed": false
   },
   "outputs": [
    {
     "name": "stdout",
     "output_type": "stream",
     "text": [
      "          Y2-A         FSC-A\n",
      "0  5306.313477   2721.044922\n",
      "1  4736.391602  11533.376953\n",
      "2    29.223442   3357.985352\n",
      "3    17.695936  -6541.075195\n",
      "4     4.721963   3233.231201\n",
      "5  6466.929688   4459.637695\n",
      "6  7095.660645  11265.457031\n",
      "7  7982.730469   1869.270264\n",
      "8  4455.803223   -294.199066\n",
      "9  8064.943359  -2264.389648\n"
     ]
    }
   ],
   "source": [
    "# And here's some data\n",
    "print sample.data[['Y2-A', 'FSC-A']][:10]"
   ]
  },
  {
   "cell_type": "code",
   "execution_count": 7,
   "metadata": {
    "collapsed": false
   },
   "outputs": [
    {
     "name": "stdout",
     "output_type": "stream",
     "text": [
      "count    10000.000000\n",
      "mean      5780.000488\n",
      "std       3355.745361\n",
      "min        -79.021210\n",
      "25%       3971.077454\n",
      "50%       5442.882080\n",
      "75%       7603.523071\n",
      "max      30875.498047\n",
      "Name: Y2-A, dtype: float64\n"
     ]
    }
   ],
   "source": [
    "# We can also get some statistics using pandas\n",
    "print sample.data['Y2-A'].describe()"
   ]
  },
  {
   "cell_type": "code",
   "execution_count": 8,
   "metadata": {
    "collapsed": false
   },
   "outputs": [
    {
     "name": "stdout",
     "output_type": "stream",
     "text": [
      "5442.88183594\n"
     ]
    }
   ],
   "source": [
    "# For retrieving the median\n",
    "print sample.data['Y2-A'].median()"
   ]
  },
  {
   "cell_type": "markdown",
   "metadata": {},
   "source": [
    "### Plotting\n",
    "Plotting gallery: [http://eyurtsev.github.io/FlowCytometryTools/gallery.html](http://eyurtsev.github.io/FlowCytometryTools/gallery.html)"
   ]
  },
  {
   "cell_type": "code",
   "execution_count": 9,
   "metadata": {
    "collapsed": false
   },
   "outputs": [
    {
     "data": {
      "image/png": "[encoded data removed]",
      "text/plain": [
       "<matplotlib.figure.Figure at 0x1067c4650>"
      ]
     },
     "metadata": {},
     "output_type": "display_data"
    }
   ],
   "source": [
    "sample.plot('B1-A', color='blue', alpha=0.7, bins=100, grid=True)\n",
    "plt.axvline(250, c=\"blue\", linestyle=\"--\")\n",
    "plt.savefig(\"fig1a.png\")"
   ]
  },
  {
   "cell_type": "markdown",
   "metadata": {},
   "source": [
    "From the documentation: \"Rather than having this transformation applied automatically and without your knowledge, this package provides a few of the common transformations (e.g., hlog, tlog), but ultimately leaves it up to you to decide how to manipulate your data. In the hlog transformation, the parameter b controls the location where the transformation shifts from linear to log. The optimal value for this parameter depends on the range of your data. For smaller ranges, try smaller values of b. So if your population doesn’t show up well, just adjust b.\""
   ]
  },
  {
   "cell_type": "code",
   "execution_count": 10,
   "metadata": {
    "collapsed": false
   },
   "outputs": [
    {
     "data": {
      "text/plain": [
       "<matplotlib.lines.Line2D at 0x10c7255d0>"
      ]
     },
     "execution_count": 10,
     "metadata": {},
     "output_type": "execute_result"
    },
    {
     "data": {
      "image/png": "[encoded data removed]",
      "text/plain": [
       "<matplotlib.figure.Figure at 0x118ce5610>"
      ]
     },
     "metadata": {},
     "output_type": "display_data"
    }
   ],
   "source": [
    "tsample = sample.transform('hlog',channels=['FSC-A', 'FSC-H', 'FSC-W', 'SSC-A', 'SSC-H', 'SSC-W', 'Y2-A', 'Y2-H', 'Y2-W', 'B1-A', 'B1-H', 'B1-W'], b=500.0)\n",
    "tsample.plot('B1-A', color='blue', alpha=0.7, bins=100, grid=True)\n",
    "plt.axvline(1000, c=\"blue\", linestyle=\"--\")\n"
   ]
  },
  {
   "cell_type": "code",
   "execution_count": 13,
   "metadata": {
    "collapsed": true
   },
   "outputs": [],
   "source": [
    "import seaborn as sns"
   ]
  },
  {
   "cell_type": "code",
   "execution_count": null,
   "metadata": {
    "collapsed": false
   },
   "outputs": [],
   "source": [
    "## Plotting relationship between each parameter that we'll use in machine learning\n",
    "channels_plot = list(tsample.channel_names[1:7]) + [\"Object_Type\"]\n",
    "data_plots = data[channels_plot]\n",
    "\n",
    "sns.pairplot(data_plots[9000:], hue=\"Object_Type\")\n",
    "plt.savefig(\"fig1b.png\")"
   ]
  },
  {
   "cell_type": "markdown",
   "metadata": {},
   "source": [
    "### Data labeling"
   ]
  },
  {
   "cell_type": "code",
   "execution_count": 14,
   "metadata": {
    "collapsed": false
   },
   "outputs": [
    {
     "data": {
      "text/html": [
       "<div>\n",
       "<table border=\"1\" class=\"dataframe\">\n",
       "  <thead>\n",
       "    <tr style=\"text-align: right;\">\n",
       "      <th></th>\n",
       "      <th>HDR-T</th>\n",
       "      <th>FSC-A</th>\n",
       "      <th>FSC-H</th>\n",
       "      <th>FSC-W</th>\n",
       "      <th>SSC-A</th>\n",
       "      <th>SSC-H</th>\n",
       "      <th>SSC-W</th>\n",
       "      <th>Y2-A</th>\n",
       "      <th>Y2-H</th>\n",
       "      <th>Y2-W</th>\n",
       "      <th>B1-A</th>\n",
       "      <th>B1-H</th>\n",
       "      <th>B1-W</th>\n",
       "      <th>Object_Type</th>\n",
       "    </tr>\n",
       "  </thead>\n",
       "  <tbody>\n",
       "    <tr>\n",
       "      <th>0</th>\n",
       "      <td>21.537766</td>\n",
       "      <td>2721.044922</td>\n",
       "      <td>5611.010742</td>\n",
       "      <td>63563.023438</td>\n",
       "      <td>5568.997070</td>\n",
       "      <td>4110.853027</td>\n",
       "      <td>177564.015625</td>\n",
       "      <td>5306.313477</td>\n",
       "      <td>3524.106689</td>\n",
       "      <td>197357.562500</td>\n",
       "      <td>1143.540771</td>\n",
       "      <td>617.507446</td>\n",
       "      <td>242727.718750</td>\n",
       "      <td>1.0</td>\n",
       "    </tr>\n",
       "    <tr>\n",
       "      <th>1</th>\n",
       "      <td>67.674721</td>\n",
       "      <td>11533.376953</td>\n",
       "      <td>10393.686523</td>\n",
       "      <td>145444.328125</td>\n",
       "      <td>3277.630615</td>\n",
       "      <td>2735.080322</td>\n",
       "      <td>157072.390625</td>\n",
       "      <td>4736.391602</td>\n",
       "      <td>3436.684814</td>\n",
       "      <td>180641.625000</td>\n",
       "      <td>997.152588</td>\n",
       "      <td>669.475952</td>\n",
       "      <td>195225.515625</td>\n",
       "      <td>1.0</td>\n",
       "    </tr>\n",
       "    <tr>\n",
       "      <th>2</th>\n",
       "      <td>91.303741</td>\n",
       "      <td>3357.985352</td>\n",
       "      <td>9336.948242</td>\n",
       "      <td>47139.371094</td>\n",
       "      <td>3384.410645</td>\n",
       "      <td>2674.267822</td>\n",
       "      <td>165877.734375</td>\n",
       "      <td>29.223442</td>\n",
       "      <td>98.610855</td>\n",
       "      <td>38843.339844</td>\n",
       "      <td>19.239727</td>\n",
       "      <td>99.402077</td>\n",
       "      <td>25369.585938</td>\n",
       "      <td>9.0</td>\n",
       "    </tr>\n",
       "    <tr>\n",
       "      <th>3</th>\n",
       "      <td>96.068352</td>\n",
       "      <td>-6541.075195</td>\n",
       "      <td>3363.389648</td>\n",
       "      <td>-254907.078125</td>\n",
       "      <td>5206.671387</td>\n",
       "      <td>4185.524902</td>\n",
       "      <td>163049.765625</td>\n",
       "      <td>17.695936</td>\n",
       "      <td>74.761513</td>\n",
       "      <td>31024.542969</td>\n",
       "      <td>0.721177</td>\n",
       "      <td>106.087509</td>\n",
       "      <td>891.020020</td>\n",
       "      <td>9.0</td>\n",
       "    </tr>\n",
       "    <tr>\n",
       "      <th>4</th>\n",
       "      <td>133.085709</td>\n",
       "      <td>3233.231201</td>\n",
       "      <td>7134.643555</td>\n",
       "      <td>59398.351562</td>\n",
       "      <td>4759.702637</td>\n",
       "      <td>3840.285889</td>\n",
       "      <td>162452.421875</td>\n",
       "      <td>4.721963</td>\n",
       "      <td>80.450211</td>\n",
       "      <td>7693.170410</td>\n",
       "      <td>28.822926</td>\n",
       "      <td>61.786156</td>\n",
       "      <td>61144.417969</td>\n",
       "      <td>9.0</td>\n",
       "    </tr>\n",
       "  </tbody>\n",
       "</table>\n",
       "</div>"
      ],
      "text/plain": [
       "        HDR-T         FSC-A         FSC-H          FSC-W        SSC-A  \\\n",
       "0   21.537766   2721.044922   5611.010742   63563.023438  5568.997070   \n",
       "1   67.674721  11533.376953  10393.686523  145444.328125  3277.630615   \n",
       "2   91.303741   3357.985352   9336.948242   47139.371094  3384.410645   \n",
       "3   96.068352  -6541.075195   3363.389648 -254907.078125  5206.671387   \n",
       "4  133.085709   3233.231201   7134.643555   59398.351562  4759.702637   \n",
       "\n",
       "         SSC-H          SSC-W         Y2-A         Y2-H           Y2-W  \\\n",
       "0  4110.853027  177564.015625  5306.313477  3524.106689  197357.562500   \n",
       "1  2735.080322  157072.390625  4736.391602  3436.684814  180641.625000   \n",
       "2  2674.267822  165877.734375    29.223442    98.610855   38843.339844   \n",
       "3  4185.524902  163049.765625    17.695936    74.761513   31024.542969   \n",
       "4  3840.285889  162452.421875     4.721963    80.450211    7693.170410   \n",
       "\n",
       "          B1-A        B1-H           B1-W  Object_Type  \n",
       "0  1143.540771  617.507446  242727.718750          1.0  \n",
       "1   997.152588  669.475952  195225.515625          1.0  \n",
       "2    19.239727   99.402077   25369.585938          9.0  \n",
       "3     0.721177  106.087509     891.020020          9.0  \n",
       "4    28.822926   61.786156   61144.417969          9.0  "
      ]
     },
     "execution_count": 14,
     "metadata": {},
     "output_type": "execute_result"
    }
   ],
   "source": [
    "## I'm going to use untransformed data for the supervised learning. Transformation just stretch the data but shouldn't \n",
    "## change the results.\n",
    "\n",
    "# Setting an arbitrary threshold for fluorescent and non-fluorescent stuff.\n",
    "threshold = 250\n",
    "\n",
    "# Classifying based on threshold\n",
    "Object_Type = np.array([])\n",
    "for i in sample.data[\"B1-A\"]:\n",
    "    if i > threshold:\n",
    "        Object_Type = np.append(Object_Type, 1)\n",
    "    else:\n",
    "        Object_Type = np.append(Object_Type, 9)\n",
    "data = sample.data\n",
    "data[\"Object_Type\"] = Object_Type\n",
    "data.head()"
   ]
  },
  {
   "cell_type": "code",
   "execution_count": 15,
   "metadata": {
    "collapsed": false
   },
   "outputs": [
    {
     "data": {
      "text/plain": [
       "244.94321"
      ]
     },
     "execution_count": 15,
     "metadata": {},
     "output_type": "execute_result"
    }
   ],
   "source": [
    "noncells = data[data[\"Object_Type\"] == 9] \n",
    "noncells[\"B1-A\"].max()"
   ]
  },
  {
   "cell_type": "code",
   "execution_count": 16,
   "metadata": {
    "collapsed": false
   },
   "outputs": [
    {
     "data": {
      "text/plain": [
       "<matplotlib.legend.Legend at 0x10bde1790>"
      ]
     },
     "execution_count": 16,
     "metadata": {},
     "output_type": "execute_result"
    },
    {
     "data": {
      "image/png": "[encoded data removed]",
      "text/plain": [
       "<matplotlib.figure.Figure at 0x11aa22550>"
      ]
     },
     "metadata": {},
     "output_type": "display_data"
    }
   ],
   "source": [
    "data_preprocessed = data[data[\"Object_Type\"] == 1] \n",
    "plt.hist(data[\"B1-A\"], bins= 100, label=\"Raw\");\n",
    "plt.hist(data_preprocessed[\"B1-A\"], bins= 100, alpha= 0.5, color=\"orange\", label = \"Filtered\");\n",
    "plt.ylabel(\"Counts\")\n",
    "plt.xlabel(\"B1-A\")\n",
    "plt.legend()"
   ]
  },
  {
   "cell_type": "markdown",
   "metadata": {},
   "source": [
    "### Generating data for supervised learning"
   ]
  },
  {
   "cell_type": "code",
   "execution_count": 17,
   "metadata": {
    "collapsed": false
   },
   "outputs": [],
   "source": [
    "# Using supervised learning with all the scatter measurements, non transformed data\n",
    "X = sample.data[list(sample.channel_names[1:7])]"
   ]
  },
  {
   "cell_type": "code",
   "execution_count": 18,
   "metadata": {
    "collapsed": false
   },
   "outputs": [
    {
     "data": {
      "text/html": [
       "<div>\n",
       "<table border=\"1\" class=\"dataframe\">\n",
       "  <thead>\n",
       "    <tr style=\"text-align: right;\">\n",
       "      <th></th>\n",
       "      <th>FSC-A</th>\n",
       "      <th>FSC-H</th>\n",
       "      <th>FSC-W</th>\n",
       "      <th>SSC-A</th>\n",
       "      <th>SSC-H</th>\n",
       "      <th>SSC-W</th>\n",
       "    </tr>\n",
       "  </thead>\n",
       "  <tbody>\n",
       "    <tr>\n",
       "      <th>0</th>\n",
       "      <td>2721.044922</td>\n",
       "      <td>5611.010742</td>\n",
       "      <td>63563.023438</td>\n",
       "      <td>5568.997070</td>\n",
       "      <td>4110.853027</td>\n",
       "      <td>177564.015625</td>\n",
       "    </tr>\n",
       "    <tr>\n",
       "      <th>1</th>\n",
       "      <td>11533.376953</td>\n",
       "      <td>10393.686523</td>\n",
       "      <td>145444.328125</td>\n",
       "      <td>3277.630615</td>\n",
       "      <td>2735.080322</td>\n",
       "      <td>157072.390625</td>\n",
       "    </tr>\n",
       "    <tr>\n",
       "      <th>2</th>\n",
       "      <td>3357.985352</td>\n",
       "      <td>9336.948242</td>\n",
       "      <td>47139.371094</td>\n",
       "      <td>3384.410645</td>\n",
       "      <td>2674.267822</td>\n",
       "      <td>165877.734375</td>\n",
       "    </tr>\n",
       "    <tr>\n",
       "      <th>3</th>\n",
       "      <td>-6541.075195</td>\n",
       "      <td>3363.389648</td>\n",
       "      <td>-254907.078125</td>\n",
       "      <td>5206.671387</td>\n",
       "      <td>4185.524902</td>\n",
       "      <td>163049.765625</td>\n",
       "    </tr>\n",
       "    <tr>\n",
       "      <th>4</th>\n",
       "      <td>3233.231201</td>\n",
       "      <td>7134.643555</td>\n",
       "      <td>59398.351562</td>\n",
       "      <td>4759.702637</td>\n",
       "      <td>3840.285889</td>\n",
       "      <td>162452.421875</td>\n",
       "    </tr>\n",
       "    <tr>\n",
       "      <th>5</th>\n",
       "      <td>4459.637695</td>\n",
       "      <td>6110.441895</td>\n",
       "      <td>95661.437500</td>\n",
       "      <td>6132.524902</td>\n",
       "      <td>5203.037598</td>\n",
       "      <td>154487.125000</td>\n",
       "    </tr>\n",
       "    <tr>\n",
       "      <th>6</th>\n",
       "      <td>11265.457031</td>\n",
       "      <td>10336.461914</td>\n",
       "      <td>142852.171875</td>\n",
       "      <td>3344.814941</td>\n",
       "      <td>2670.672607</td>\n",
       "      <td>164157.734375</td>\n",
       "    </tr>\n",
       "    <tr>\n",
       "      <th>7</th>\n",
       "      <td>1869.270264</td>\n",
       "      <td>10825.398438</td>\n",
       "      <td>22632.792969</td>\n",
       "      <td>11768.268555</td>\n",
       "      <td>9451.333984</td>\n",
       "      <td>163203.468750</td>\n",
       "    </tr>\n",
       "    <tr>\n",
       "      <th>8</th>\n",
       "      <td>-294.199066</td>\n",
       "      <td>4043.216064</td>\n",
       "      <td>-9537.274414</td>\n",
       "      <td>4447.352539</td>\n",
       "      <td>3454.984375</td>\n",
       "      <td>168719.546875</td>\n",
       "    </tr>\n",
       "    <tr>\n",
       "      <th>9</th>\n",
       "      <td>-2264.389648</td>\n",
       "      <td>6595.055176</td>\n",
       "      <td>-45003.125000</td>\n",
       "      <td>12359.852539</td>\n",
       "      <td>9763.746094</td>\n",
       "      <td>165923.062500</td>\n",
       "    </tr>\n",
       "  </tbody>\n",
       "</table>\n",
       "</div>"
      ],
      "text/plain": [
       "          FSC-A         FSC-H          FSC-W         SSC-A        SSC-H  \\\n",
       "0   2721.044922   5611.010742   63563.023438   5568.997070  4110.853027   \n",
       "1  11533.376953  10393.686523  145444.328125   3277.630615  2735.080322   \n",
       "2   3357.985352   9336.948242   47139.371094   3384.410645  2674.267822   \n",
       "3  -6541.075195   3363.389648 -254907.078125   5206.671387  4185.524902   \n",
       "4   3233.231201   7134.643555   59398.351562   4759.702637  3840.285889   \n",
       "5   4459.637695   6110.441895   95661.437500   6132.524902  5203.037598   \n",
       "6  11265.457031  10336.461914  142852.171875   3344.814941  2670.672607   \n",
       "7   1869.270264  10825.398438   22632.792969  11768.268555  9451.333984   \n",
       "8   -294.199066   4043.216064   -9537.274414   4447.352539  3454.984375   \n",
       "9  -2264.389648   6595.055176  -45003.125000  12359.852539  9763.746094   \n",
       "\n",
       "           SSC-W  \n",
       "0  177564.015625  \n",
       "1  157072.390625  \n",
       "2  165877.734375  \n",
       "3  163049.765625  \n",
       "4  162452.421875  \n",
       "5  154487.125000  \n",
       "6  164157.734375  \n",
       "7  163203.468750  \n",
       "8  168719.546875  \n",
       "9  165923.062500  "
      ]
     },
     "execution_count": 18,
     "metadata": {},
     "output_type": "execute_result"
    }
   ],
   "source": [
    "X[:10]"
   ]
  },
  {
   "cell_type": "code",
   "execution_count": 19,
   "metadata": {
    "collapsed": false
   },
   "outputs": [
    {
     "data": {
      "text/plain": [
       "0    1.0\n",
       "1    1.0\n",
       "2    9.0\n",
       "3    9.0\n",
       "4    9.0\n",
       "5    1.0\n",
       "6    1.0\n",
       "7    1.0\n",
       "8    1.0\n",
       "9    1.0\n",
       "Name: Object_Type, dtype: float64"
      ]
     },
     "execution_count": 19,
     "metadata": {},
     "output_type": "execute_result"
    }
   ],
   "source": [
    "y = data[\"Object_Type\"]\n",
    "y[:10]"
   ]
  },
  {
   "cell_type": "markdown",
   "metadata": {},
   "source": [
    "### Prototyping supervised learning code"
   ]
  },
  {
   "cell_type": "code",
   "execution_count": 28,
   "metadata": {
    "collapsed": false
   },
   "outputs": [],
   "source": [
    "from sklearn.neighbors import KNeighborsClassifier\n",
    "from sklearn.discriminant_analysis import LinearDiscriminantAnalysis\n",
    "from sklearn.svm import SVC\n",
    "from sklearn.tree import DecisionTreeClassifier\n",
    "from sklearn.cross_validation import train_test_split"
   ]
  },
  {
   "cell_type": "code",
   "execution_count": 21,
   "metadata": {
    "collapsed": true
   },
   "outputs": [],
   "source": [
    "from progressbar import ProgressBar"
   ]
  },
  {
   "cell_type": "code",
   "execution_count": 29,
   "metadata": {
    "collapsed": true
   },
   "outputs": [],
   "source": [
    "def cross_val_class_accuracy(model, X, y, test_f , reps):\n",
    "    accuracy = np.array([])\n",
    "    pbar = ProgressBar()\n",
    "    for i in pbar(range(reps)):\n",
    "        X_train, X_test, y_train, y_test = train_test_split(X, y, test_size=test_f)\n",
    "        model.fit(X_train, y_train)\n",
    "        prediction = model.predict(X_test)\n",
    "        accuracy = np.append(accuracy, np.mean(prediction == y_test))\n",
    "    return np.mean(accuracy) "
   ]
  },
  {
   "cell_type": "code",
   "execution_count": 30,
   "metadata": {
    "collapsed": true
   },
   "outputs": [],
   "source": [
    "## First, let's try to use all scatter measurements to classify, using a KNN\n",
    "models = [KNeighborsClassifier(n_neighbors=10), KNeighborsClassifier(n_neighbors=44)]"
   ]
  },
  {
   "cell_type": "code",
   "execution_count": 31,
   "metadata": {
    "collapsed": false
   },
   "outputs": [
    {
     "name": "stdout",
     "output_type": "stream",
     "text": [
      "Using model: KNeighborsClassifier(algorithm='auto', leaf_size=30, metric='minkowski',\n",
      "           metric_params=None, n_jobs=1, n_neighbors=10, p=2,\n",
      "           weights='uniform')\n"
     ]
    },
    {
     "name": "stderr",
     "output_type": "stream",
     "text": [
      "100% |########################################################################|\n"
     ]
    },
    {
     "name": "stdout",
     "output_type": "stream",
     "text": [
      "Using model: KNeighborsClassifier(algorithm='auto', leaf_size=30, metric='minkowski',\n",
      "           metric_params=None, n_jobs=1, n_neighbors=44, p=2,\n",
      "           weights='uniform')\n"
     ]
    },
    {
     "name": "stderr",
     "output_type": "stream",
     "text": [
      "100% |########################################################################|\n"
     ]
    }
   ],
   "source": [
    "## How do the different models perform in terms of cross-validation accuracy?\n",
    "acc = np.array([])\n",
    "for model in models:\n",
    "    print \"Using model: \" + str(model)\n",
    "    acc = np.append(acc, cross_val_class_accuracy(model, X, y, 0.8 , 100))"
   ]
  },
  {
   "cell_type": "code",
   "execution_count": 32,
   "metadata": {
    "collapsed": false,
    "scrolled": true
   },
   "outputs": [
    {
     "data": {
      "image/png": "[encoded data removed]",
      "text/plain": [
       "<matplotlib.figure.Figure at 0x11bc4e210>"
      ]
     },
     "metadata": {},
     "output_type": "display_data"
    }
   ],
   "source": [
    "ind = np.arange(len(models))\n",
    "width = 0.5\n",
    "fig, ax = plt.subplots(figsize=(5,4))\n",
    "ax.bar(ind, acc, width)\n",
    "ax.set_ylabel('Fraction predicted')\n",
    "ax.set_xticks(ind + width / 2)\n",
    "ax.set_xticks(ind + width / 2)\n",
    "ax.set_yticks(np.arange(0, 1.1, 0.1))\n",
    "ax.set_xticklabels([\"K=10\", \"K=44\"])\n",
    "plt.xlim(-0.25, 1.75)\n",
    "ax.set_title(\"K-Nearest Neighbor Classifier\")\n",
    "plt.savefig(\"fig1c.png\")"
   ]
  },
  {
   "cell_type": "code",
   "execution_count": 34,
   "metadata": {
    "collapsed": false
   },
   "outputs": [
    {
     "name": "stderr",
     "output_type": "stream",
     "text": []
    },
    {
     "name": "stdout",
     "output_type": "stream",
     "text": [
      "0.91360875\n"
     ]
    },
    {
     "name": "stderr",
     "output_type": "stream",
     "text": [
      "100% |########################################################################|\r\n"
     ]
    }
   ],
   "source": [
    "# let's save a model for later use.\n",
    "def generate_model(classifier, X, y, test_f , reps):\n",
    "    accuracy = np.array([])\n",
    "    pbar = ProgressBar()\n",
    "    for i in pbar(range(reps)):\n",
    "        X_train, X_test, y_train, y_test = train_test_split(X, y, test_size=test_f)\n",
    "        classifier.fit(X_train, y_train)\n",
    "        prediction = classifier.predict(X_test)\n",
    "        accuracy = np.append(accuracy, np.mean(prediction == y_test))\n",
    "    print np.mean(accuracy) \n",
    "    return classifier\n",
    "\n",
    "model = generate_model(KNeighborsClassifier(n_neighbors=44), X, y, 0.8 , 100)"
   ]
  },
  {
   "cell_type": "code",
   "execution_count": 39,
   "metadata": {
    "collapsed": false
   },
   "outputs": [
    {
     "ename": "KeyError",
     "evalue": "'B1-A'",
     "output_type": "error",
     "traceback": [
      "\u001b[0;31m---------------------------------------------------------------------------\u001b[0m",
      "\u001b[0;31mKeyError\u001b[0m                                  Traceback (most recent call last)",
      "\u001b[0;32m<ipython-input-39-66355275e523>\u001b[0m in \u001b[0;36m<module>\u001b[0;34m()\u001b[0m\n\u001b[1;32m      9\u001b[0m \u001b[0mtest_sample\u001b[0m\u001b[0;34m.\u001b[0m\u001b[0mhead\u001b[0m\u001b[0;34m(\u001b[0m\u001b[0;34m)\u001b[0m\u001b[0;34m\u001b[0m\u001b[0m\n\u001b[1;32m     10\u001b[0m \u001b[0;34m\u001b[0m\u001b[0m\n\u001b[0;32m---> 11\u001b[0;31m \u001b[0mX_test_noncells\u001b[0m \u001b[0;34m=\u001b[0m \u001b[0mX_test\u001b[0m\u001b[0;34m[\u001b[0m\u001b[0mX_test\u001b[0m\u001b[0;34m[\u001b[0m\u001b[0;34m\"B1-A\"\u001b[0m\u001b[0;34m]\u001b[0m \u001b[0;34m<\u001b[0m \u001b[0;36m250\u001b[0m\u001b[0;34m]\u001b[0m\u001b[0;34m\u001b[0m\u001b[0m\n\u001b[0m\u001b[1;32m     12\u001b[0m \u001b[0my_test_noncells\u001b[0m \u001b[0;34m=\u001b[0m \u001b[0my_test\u001b[0m\u001b[0;34m.\u001b[0m\u001b[0mix\u001b[0m\u001b[0;34m[\u001b[0m\u001b[0mtest_index\u001b[0m\u001b[0;34m]\u001b[0m\u001b[0;34m\u001b[0m\u001b[0m\n",
      "\u001b[0;32m/Users/jasonfontana/anaconda/lib/python2.7/site-packages/pandas/core/frame.pyc\u001b[0m in \u001b[0;36m__getitem__\u001b[0;34m(self, key)\u001b[0m\n\u001b[1;32m   1995\u001b[0m             \u001b[0;32mreturn\u001b[0m \u001b[0mself\u001b[0m\u001b[0;34m.\u001b[0m\u001b[0m_getitem_multilevel\u001b[0m\u001b[0;34m(\u001b[0m\u001b[0mkey\u001b[0m\u001b[0;34m)\u001b[0m\u001b[0;34m\u001b[0m\u001b[0m\n\u001b[1;32m   1996\u001b[0m         \u001b[0;32melse\u001b[0m\u001b[0;34m:\u001b[0m\u001b[0;34m\u001b[0m\u001b[0m\n\u001b[0;32m-> 1997\u001b[0;31m             \u001b[0;32mreturn\u001b[0m \u001b[0mself\u001b[0m\u001b[0;34m.\u001b[0m\u001b[0m_getitem_column\u001b[0m\u001b[0;34m(\u001b[0m\u001b[0mkey\u001b[0m\u001b[0;34m)\u001b[0m\u001b[0;34m\u001b[0m\u001b[0m\n\u001b[0m\u001b[1;32m   1998\u001b[0m \u001b[0;34m\u001b[0m\u001b[0m\n\u001b[1;32m   1999\u001b[0m     \u001b[0;32mdef\u001b[0m \u001b[0m_getitem_column\u001b[0m\u001b[0;34m(\u001b[0m\u001b[0mself\u001b[0m\u001b[0;34m,\u001b[0m \u001b[0mkey\u001b[0m\u001b[0;34m)\u001b[0m\u001b[0;34m:\u001b[0m\u001b[0;34m\u001b[0m\u001b[0m\n",
      "\u001b[0;32m/Users/jasonfontana/anaconda/lib/python2.7/site-packages/pandas/core/frame.pyc\u001b[0m in \u001b[0;36m_getitem_column\u001b[0;34m(self, key)\u001b[0m\n\u001b[1;32m   2002\u001b[0m         \u001b[0;31m# get column\u001b[0m\u001b[0;34m\u001b[0m\u001b[0;34m\u001b[0m\u001b[0m\n\u001b[1;32m   2003\u001b[0m         \u001b[0;32mif\u001b[0m \u001b[0mself\u001b[0m\u001b[0;34m.\u001b[0m\u001b[0mcolumns\u001b[0m\u001b[0;34m.\u001b[0m\u001b[0mis_unique\u001b[0m\u001b[0;34m:\u001b[0m\u001b[0;34m\u001b[0m\u001b[0m\n\u001b[0;32m-> 2004\u001b[0;31m             \u001b[0;32mreturn\u001b[0m \u001b[0mself\u001b[0m\u001b[0;34m.\u001b[0m\u001b[0m_get_item_cache\u001b[0m\u001b[0;34m(\u001b[0m\u001b[0mkey\u001b[0m\u001b[0;34m)\u001b[0m\u001b[0;34m\u001b[0m\u001b[0m\n\u001b[0m\u001b[1;32m   2005\u001b[0m \u001b[0;34m\u001b[0m\u001b[0m\n\u001b[1;32m   2006\u001b[0m         \u001b[0;31m# duplicate columns & possible reduce dimensionality\u001b[0m\u001b[0;34m\u001b[0m\u001b[0;34m\u001b[0m\u001b[0m\n",
      "\u001b[0;32m/Users/jasonfontana/anaconda/lib/python2.7/site-packages/pandas/core/generic.pyc\u001b[0m in \u001b[0;36m_get_item_cache\u001b[0;34m(self, item)\u001b[0m\n\u001b[1;32m   1348\u001b[0m         \u001b[0mres\u001b[0m \u001b[0;34m=\u001b[0m \u001b[0mcache\u001b[0m\u001b[0;34m.\u001b[0m\u001b[0mget\u001b[0m\u001b[0;34m(\u001b[0m\u001b[0mitem\u001b[0m\u001b[0;34m)\u001b[0m\u001b[0;34m\u001b[0m\u001b[0m\n\u001b[1;32m   1349\u001b[0m         \u001b[0;32mif\u001b[0m \u001b[0mres\u001b[0m \u001b[0;32mis\u001b[0m \u001b[0mNone\u001b[0m\u001b[0;34m:\u001b[0m\u001b[0;34m\u001b[0m\u001b[0m\n\u001b[0;32m-> 1350\u001b[0;31m             \u001b[0mvalues\u001b[0m \u001b[0;34m=\u001b[0m \u001b[0mself\u001b[0m\u001b[0;34m.\u001b[0m\u001b[0m_data\u001b[0m\u001b[0;34m.\u001b[0m\u001b[0mget\u001b[0m\u001b[0;34m(\u001b[0m\u001b[0mitem\u001b[0m\u001b[0;34m)\u001b[0m\u001b[0;34m\u001b[0m\u001b[0m\n\u001b[0m\u001b[1;32m   1351\u001b[0m             \u001b[0mres\u001b[0m \u001b[0;34m=\u001b[0m \u001b[0mself\u001b[0m\u001b[0;34m.\u001b[0m\u001b[0m_box_item_values\u001b[0m\u001b[0;34m(\u001b[0m\u001b[0mitem\u001b[0m\u001b[0;34m,\u001b[0m \u001b[0mvalues\u001b[0m\u001b[0;34m)\u001b[0m\u001b[0;34m\u001b[0m\u001b[0m\n\u001b[1;32m   1352\u001b[0m             \u001b[0mcache\u001b[0m\u001b[0;34m[\u001b[0m\u001b[0mitem\u001b[0m\u001b[0;34m]\u001b[0m \u001b[0;34m=\u001b[0m \u001b[0mres\u001b[0m\u001b[0;34m\u001b[0m\u001b[0m\n",
      "\u001b[0;32m/Users/jasonfontana/anaconda/lib/python2.7/site-packages/pandas/core/internals.pyc\u001b[0m in \u001b[0;36mget\u001b[0;34m(self, item, fastpath)\u001b[0m\n\u001b[1;32m   3288\u001b[0m \u001b[0;34m\u001b[0m\u001b[0m\n\u001b[1;32m   3289\u001b[0m             \u001b[0;32mif\u001b[0m \u001b[0;32mnot\u001b[0m \u001b[0misnull\u001b[0m\u001b[0;34m(\u001b[0m\u001b[0mitem\u001b[0m\u001b[0;34m)\u001b[0m\u001b[0;34m:\u001b[0m\u001b[0;34m\u001b[0m\u001b[0m\n\u001b[0;32m-> 3290\u001b[0;31m                 \u001b[0mloc\u001b[0m \u001b[0;34m=\u001b[0m \u001b[0mself\u001b[0m\u001b[0;34m.\u001b[0m\u001b[0mitems\u001b[0m\u001b[0;34m.\u001b[0m\u001b[0mget_loc\u001b[0m\u001b[0;34m(\u001b[0m\u001b[0mitem\u001b[0m\u001b[0;34m)\u001b[0m\u001b[0;34m\u001b[0m\u001b[0m\n\u001b[0m\u001b[1;32m   3291\u001b[0m             \u001b[0;32melse\u001b[0m\u001b[0;34m:\u001b[0m\u001b[0;34m\u001b[0m\u001b[0m\n\u001b[1;32m   3292\u001b[0m                 \u001b[0mindexer\u001b[0m \u001b[0;34m=\u001b[0m \u001b[0mnp\u001b[0m\u001b[0;34m.\u001b[0m\u001b[0marange\u001b[0m\u001b[0;34m(\u001b[0m\u001b[0mlen\u001b[0m\u001b[0;34m(\u001b[0m\u001b[0mself\u001b[0m\u001b[0;34m.\u001b[0m\u001b[0mitems\u001b[0m\u001b[0;34m)\u001b[0m\u001b[0;34m)\u001b[0m\u001b[0;34m[\u001b[0m\u001b[0misnull\u001b[0m\u001b[0;34m(\u001b[0m\u001b[0mself\u001b[0m\u001b[0;34m.\u001b[0m\u001b[0mitems\u001b[0m\u001b[0;34m)\u001b[0m\u001b[0;34m]\u001b[0m\u001b[0;34m\u001b[0m\u001b[0m\n",
      "\u001b[0;32m/Users/jasonfontana/anaconda/lib/python2.7/site-packages/pandas/indexes/base.pyc\u001b[0m in \u001b[0;36mget_loc\u001b[0;34m(self, key, method, tolerance)\u001b[0m\n\u001b[1;32m   1945\u001b[0m                 \u001b[0;32mreturn\u001b[0m \u001b[0mself\u001b[0m\u001b[0;34m.\u001b[0m\u001b[0m_engine\u001b[0m\u001b[0;34m.\u001b[0m\u001b[0mget_loc\u001b[0m\u001b[0;34m(\u001b[0m\u001b[0mkey\u001b[0m\u001b[0;34m)\u001b[0m\u001b[0;34m\u001b[0m\u001b[0m\n\u001b[1;32m   1946\u001b[0m             \u001b[0;32mexcept\u001b[0m \u001b[0mKeyError\u001b[0m\u001b[0;34m:\u001b[0m\u001b[0;34m\u001b[0m\u001b[0m\n\u001b[0;32m-> 1947\u001b[0;31m                 \u001b[0;32mreturn\u001b[0m \u001b[0mself\u001b[0m\u001b[0;34m.\u001b[0m\u001b[0m_engine\u001b[0m\u001b[0;34m.\u001b[0m\u001b[0mget_loc\u001b[0m\u001b[0;34m(\u001b[0m\u001b[0mself\u001b[0m\u001b[0;34m.\u001b[0m\u001b[0m_maybe_cast_indexer\u001b[0m\u001b[0;34m(\u001b[0m\u001b[0mkey\u001b[0m\u001b[0;34m)\u001b[0m\u001b[0;34m)\u001b[0m\u001b[0;34m\u001b[0m\u001b[0m\n\u001b[0m\u001b[1;32m   1948\u001b[0m \u001b[0;34m\u001b[0m\u001b[0m\n\u001b[1;32m   1949\u001b[0m         \u001b[0mindexer\u001b[0m \u001b[0;34m=\u001b[0m \u001b[0mself\u001b[0m\u001b[0;34m.\u001b[0m\u001b[0mget_indexer\u001b[0m\u001b[0;34m(\u001b[0m\u001b[0;34m[\u001b[0m\u001b[0mkey\u001b[0m\u001b[0;34m]\u001b[0m\u001b[0;34m,\u001b[0m \u001b[0mmethod\u001b[0m\u001b[0;34m=\u001b[0m\u001b[0mmethod\u001b[0m\u001b[0;34m,\u001b[0m \u001b[0mtolerance\u001b[0m\u001b[0;34m=\u001b[0m\u001b[0mtolerance\u001b[0m\u001b[0;34m)\u001b[0m\u001b[0;34m\u001b[0m\u001b[0m\n",
      "\u001b[0;32mpandas/index.pyx\u001b[0m in \u001b[0;36mpandas.index.IndexEngine.get_loc (pandas/index.c:4154)\u001b[0;34m()\u001b[0m\n",
      "\u001b[0;32mpandas/index.pyx\u001b[0m in \u001b[0;36mpandas.index.IndexEngine.get_loc (pandas/index.c:4018)\u001b[0;34m()\u001b[0m\n",
      "\u001b[0;32mpandas/hashtable.pyx\u001b[0m in \u001b[0;36mpandas.hashtable.PyObjectHashTable.get_item (pandas/hashtable.c:12368)\u001b[0;34m()\u001b[0m\n",
      "\u001b[0;32mpandas/hashtable.pyx\u001b[0m in \u001b[0;36mpandas.hashtable.PyObjectHashTable.get_item (pandas/hashtable.c:12322)\u001b[0;34m()\u001b[0m\n",
      "\u001b[0;31mKeyError\u001b[0m: 'B1-A'"
     ]
    }
   ],
   "source": [
    "# Now let's try to see how if the classifier can be used to clean the data from non-cell reads.  \n",
    "X_train, X_test, y_train, y_test = train_test_split(X, y, test_size=0.8, random_state=12)\n",
    "prediction = model.predict(X_test)\n",
    "\n",
    "test_index = X_test.index\n",
    "\n",
    "test_sample = sample.data.ix[test_index]\n",
    "test_sample[\"Predicted\"] = prediction\n",
    "test_sample.head()"
   ]
  },
  {
   "cell_type": "code",
   "execution_count": 36,
   "metadata": {
    "collapsed": false
   },
   "outputs": [
    {
     "data": {
      "image/png": "[encoded data removed]",
      "text/plain": [
       "<matplotlib.figure.Figure at 0x11bc1f8d0>"
      ]
     },
     "metadata": {},
     "output_type": "display_data"
    }
   ],
   "source": [
    "test_sample_preprocessed = test_sample[test_sample[\"Predicted\"] == 1] \n",
    "plt.hist(test_sample[\"B1-A\"], bins= 100, label = \"Raw\");\n",
    "plt.hist(test_sample_preprocessed[\"B1-A\"], bins= 100, alpha= 0.5, color=\"orange\", label = \"Filtered\");\n",
    "plt.ylabel(\"Counts\")\n",
    "plt.xlabel(\"B1-A\")\n",
    "plt.legend()\n",
    "plt.savefig(\"fig1d.png\")"
   ]
  },
  {
   "cell_type": "code",
   "execution_count": 37,
   "metadata": {
    "collapsed": false
   },
   "outputs": [
    {
     "data": {
      "text/plain": [
       "(654, 14)"
      ]
     },
     "execution_count": 37,
     "metadata": {},
     "output_type": "execute_result"
    }
   ],
   "source": [
    "test_sample_preprocessed_noncells = test_sample_preprocessed[test_sample_preprocessed[\"B1-A\"] < 250]\n",
    "test_sample_preprocessed_noncells.shape"
   ]
  },
  {
   "cell_type": "code",
   "execution_count": null,
   "metadata": {
    "collapsed": false
   },
   "outputs": [],
   "source": [
    "test_sample_preprocessed.shape"
   ]
  },
  {
   "cell_type": "code",
   "execution_count": null,
   "metadata": {
    "collapsed": false
   },
   "outputs": [],
   "source": [
    "test_sample.shape"
   ]
  },
  {
   "cell_type": "code",
   "execution_count": null,
   "metadata": {
    "collapsed": true
   },
   "outputs": [],
   "source": [
    "# let's try to see how the model cleans non cells\n"
   ]
  },
  {
   "cell_type": "markdown",
   "metadata": {},
   "source": [
    "### Applying the model to a new sample"
   ]
  },
  {
   "cell_type": "code",
   "execution_count": null,
   "metadata": {
    "collapsed": false
   },
   "outputs": [],
   "source": [
    "# Opening a new file and checking that the threshold still works\n",
    "datafile2 = \"data/JF2017-01-06-B.0007.fcs\"\n",
    "sample2 = flow.FCMeasurement(ID='MG1655_sfGFP_mRFP1', datafile=datafile)\n",
    "sample2.plot('B1-A', color='blue', alpha=0.7, bins=100, grid=True)\n",
    "plt.axvline(250, c=\"blue\", linestyle=\"--\")"
   ]
  },
  {
   "cell_type": "markdown",
   "metadata": {},
   "source": [
    "I will use the model to predict cells and non-cells, then look at the distribution of red fluorescence of the identified \"cell\" reads.\n",
    "By using a second fluorescent reporter (different from the green one used for training the model), we will make sure that the results were not dependent on some specific feature of that fluorophore that tricked the classifier.\n",
    "After filtering, we expect the reads close to zero fluorescence to be removed."
   ]
  },
  {
   "cell_type": "code",
   "execution_count": null,
   "metadata": {
    "collapsed": false
   },
   "outputs": [],
   "source": [
    "sample2.plot('Y2-A', color='orange', alpha=0.7, bins=100, grid=True);"
   ]
  },
  {
   "cell_type": "code",
   "execution_count": null,
   "metadata": {
    "collapsed": false
   },
   "outputs": [],
   "source": [
    "X2 = sample2.data[list(sample2.channel_names[1:7])]\n",
    "X2.head()"
   ]
  },
  {
   "cell_type": "code",
   "execution_count": null,
   "metadata": {
    "collapsed": false
   },
   "outputs": [],
   "source": [
    "prediction2 = model.predict(X2)\n",
    "sample2_preprocessed = sample2.data\n",
    "sample2_preprocessed[\"Object_Type\"] = prediction2\n",
    "\n",
    "# Now let's select only the cell reads\n",
    "sample2_preprocessed = sample2_preprocessed[sample2_preprocessed[\"Object_Type\"] == 1] "
   ]
  },
  {
   "cell_type": "code",
   "execution_count": null,
   "metadata": {
    "collapsed": false
   },
   "outputs": [],
   "source": [
    "plt.hist(sample2[\"Y2-A\"], bins= 100, label=\"Raw\");\n",
    "plt.hist(sample2_preprocessed[\"Y2-A\"], bins= 100, alpha= 0.5, color=\"orange\", label = \"Filtered\");\n",
    "plt.ylabel(\"Counts\")\n",
    "plt.xlabel(\"Y2-A\")\n",
    "plt.legend()\n",
    "plt.savefig(\"fig1e.png\")"
   ]
  },
  {
   "cell_type": "markdown",
   "metadata": {},
   "source": [
    "The model was able to clean some non-cells read, but not very well."
   ]
  },
  {
   "cell_type": "code",
   "execution_count": null,
   "metadata": {
    "collapsed": false
   },
   "outputs": [],
   "source": [
    "plt.hist(sample2[\"B1-A\"], bins= 100, label=\"Raw\");\n",
    "plt.hist(sample2_preprocessed[\"B1-A\"], bins= 100, alpha= 0.5, color=\"orange\", label = \"Filtered\");\n",
    "plt.ylabel(\"Counts\")\n",
    "plt.xlabel(\"B1-A\")\n",
    "plt.legend()"
   ]
  },
  {
   "cell_type": "code",
   "execution_count": null,
   "metadata": {
    "collapsed": false
   },
   "outputs": [],
   "source": [
    "# evaluate cleaning by looking only at non cell reads: return % cleaned\n",
    "# for cleaning: try PCA\n",
    "\n",
    "# Model, w/ PCA, w/o PCA, \n",
    "# make table / heatpmap of metric (% no cells cleaning) with all different ways\n",
    "\n",
    "# try Gaussian mixtures (evaluate each mixture as a separate gaussian population) \n",
    "# http://scikit-learn.org/stable/modules/mixture.html\n",
    "\n",
    "# I need to get the parametrs after fitting out of the models to do triggering\n",
    "\n",
    "## - percent cells passing the manual threshold? Label cells and debris on plos for visualization\n",
    "## - How to find the threshold values it sets?\n",
    "\n",
    "## - use only 10% and 50% of the sample for training, how does the performance change?\n",
    "\n",
    "## plot predicted cells and non cells and see where they stand\n",
    "## using the model I got there: try on another sample and try to guess RFP"
   ]
  },
  {
   "cell_type": "markdown",
   "metadata": {},
   "source": [
    "### Plotting and comparison between classifiers\n",
    "[Compare classifiers](http://scikit-learn.org/stable/auto_examples/classification/plot_classifier_comparison.html#sphx-glr-auto-examples-classification-plot-classifier-comparison-py)\n",
    "[Plot decision boundaries](http://scikit-learn.org/stable/auto_examples/classification/plot_classifier_comparison.html#sphx-glr-auto-examples-classification-plot-classifier-comparison-py)"
   ]
  },
  {
   "cell_type": "code",
   "execution_count": null,
   "metadata": {
    "collapsed": false
   },
   "outputs": [],
   "source": [
    "from matplotlib.colors import ListedColormap\n",
    "from sklearn.preprocessing import StandardScaler\n",
    "\n",
    "def compareClassifiers(ClassifiersNames, classifiers, Xs, y, test_f):\n",
    "    h = 1  # step size in the mesh\n",
    "    datasets = []\n",
    "    for X in Xs:\n",
    "        datasets.append((X,y))\n",
    "    \n",
    "    figure = plt.figure(figsize=(27, 5))\n",
    "\n",
    "    # iterate over datasets\n",
    "    i = 1\n",
    "    for ds_cnt, ds in enumerate(datasets):\n",
    "        # preprocess dataset, split into training and test part\n",
    "        X, y = ds\n",
    "        x_label = X.columns[0]\n",
    "        y_label = X.columns[1]\n",
    "        X = StandardScaler().fit_transform(X)\n",
    "        X_train, X_test, y_train, y_test = train_test_split(X, y, test_size=test_f, random_state=12)\n",
    "\n",
    "        x_min, x_max = X[:, 0].min() - .5, X[:, 0].max() + .5\n",
    "        y_min, y_max = X[:, 1].min() - .5, X[:, 1].max() + .5\n",
    "        xx, yy = np.meshgrid(np.arange(x_min, x_max, h),\n",
    "                             np.arange(y_min, y_max, h))\n",
    "\n",
    "        # just plot the dataset first\n",
    "        cm = plt.cm.RdBu\n",
    "        cm_bright = ListedColormap(['#FF0000', '#0000FF'])\n",
    "        ax = plt.subplot(len(datasets), len(classifiers) + 1, i)\n",
    "        if ds_cnt == 0:\n",
    "            ax.set_title(\"Input data\")\n",
    "        \n",
    "        # Plot the training points\n",
    "        ax.scatter(X_train[:, 0], X_train[:, 1], c=y_train, cmap=cm_bright, alpha=0.5)\n",
    "        \n",
    "        # and testing points\n",
    "        ax.scatter(X_test[:, 0], X_test[:, 1], c=y_test, cmap=cm_bright, alpha=0.5, marker = \"*\")\n",
    "        ax.set_xlim(xx.min(), xx.max())\n",
    "        ax.set_ylim(yy.min(), yy.max())\n",
    "        ax.set_xticks(())\n",
    "        ax.set_yticks(())\n",
    "        ax.set_xlabel(x_label)\n",
    "        ax.set_ylabel(y_label)\n",
    "        i += 1\n",
    "\n",
    "        # iterate over classifiers\n",
    "        for name, clf in zip(ClassifiersNames, classifiers):\n",
    "            ax = plt.subplot(len(datasets), len(classifiers) + 1, i)\n",
    "            clf.fit(X_train, y_train)\n",
    "            score = clf.score(X_test, y_test)\n",
    "\n",
    "            # Plot the decision boundary. For that, we will assign a color to each\n",
    "            # point in the mesh [x_min, x_max]x[y_min, y_max].\n",
    "            if hasattr(clf, \"decision_function\"):\n",
    "                Z = clf.decision_function(np.c_[xx.ravel(), yy.ravel()])\n",
    "            else:\n",
    "                Z = clf.predict_proba(np.c_[xx.ravel(), yy.ravel()])[:, 1]\n",
    "\n",
    "            # Put the result into a color plot\n",
    "            Z = Z.reshape(xx.shape)\n",
    "            ax.contourf(xx, yy, Z, cmap=cm, alpha=.8)\n",
    "\n",
    "            # Plot also the training points\n",
    "            ax.scatter(X_train[:, 0], X_train[:, 1], c=y_train, cmap=cm_bright, alpha=0.5)\n",
    "            # and testing points\n",
    "            ax.scatter(X_test[:, 0], X_test[:, 1], c=y_test, cmap=cm_bright,\n",
    "                       alpha=0.5, marker = \"*\")\n",
    "\n",
    "            ax.set_xlim(xx.min(), xx.max())\n",
    "            ax.set_ylim(yy.min(), yy.max())\n",
    "            ax.set_xticks(())\n",
    "            ax.set_yticks(())\n",
    "            ax.set_xlabel(x_label)\n",
    "\n",
    "            if ds_cnt == 0:\n",
    "                ax.set_title(name)\n",
    "            ax.text(xx.max() - .3, yy.min() + .3, ('%.2f' % score).lstrip('0'),\n",
    "                    size=15, horizontalalignment='right', color=\"white\")\n",
    "            i += 1\n",
    "\n",
    "    plt.tight_layout()\n",
    "    plt.savefig(\"Output.png\")\n",
    "    #plt.show()\n"
   ]
  },
  {
   "cell_type": "code",
   "execution_count": null,
   "metadata": {
    "collapsed": false
   },
   "outputs": [],
   "source": [
    "# Generating pairwise combinations of scatter parameters\n",
    "Xs = []\n",
    "channels_names = list(sample.channel_names[1:7])\n",
    "for i in range(len(channels_names)):\n",
    "    for j in range(i+1, len(channels_names)):\n",
    "        cols = [channels_names[i], channels_names[j]]\n",
    "        Xs.append(sample.data[cols])\n",
    "\n",
    "y = data[\"Object_Type\"]        \n",
    "\n",
    "classifiers = [KNeighborsClassifier(3), KNeighborsClassifier(10),DecisionTreeClassifier() ]\n",
    "classifiers_names = [\"Nearest Neighbors-3\", \"Nearest Neighbors-10\", \"DecisionTreeClassifier\"]\n",
    "\n",
    "\n",
    "compareClassifiers(classifiers_names, classifiers, Xs[0:2], y, 0.5)\n"
   ]
  },
  {
   "cell_type": "code",
   "execution_count": null,
   "metadata": {
    "collapsed": true
   },
   "outputs": [],
   "source": []
  },
  {
   "cell_type": "code",
   "execution_count": null,
   "metadata": {
    "collapsed": true
   },
   "outputs": [],
   "source": []
  }
 ],
 "metadata": {
  "anaconda-cloud": {},
  "kernelspec": {
   "display_name": "Python [default]",
   "language": "python",
   "name": "python2"
  },
  "language_info": {
   "codemirror_mode": {
    "name": "ipython",
    "version": 2
   },
   "file_extension": ".py",
   "mimetype": "text/x-python",
   "name": "python",
   "nbconvert_exporter": "python",
   "pygments_lexer": "ipython2",
   "version": "2.7.12"
  }
 },
 "nbformat": 4,
 "nbformat_minor": 1
}
